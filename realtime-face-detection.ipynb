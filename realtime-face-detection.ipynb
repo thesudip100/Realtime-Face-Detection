{
 "cells": [
  {
   "cell_type": "code",
   "execution_count": 11,
   "id": "c93625d5",
   "metadata": {},
   "outputs": [],
   "source": [
    "#opencv library is imported\n",
    "import cv2"
   ]
  },
  {
   "cell_type": "code",
   "execution_count": 12,
   "id": "053254a8",
   "metadata": {},
   "outputs": [],
   "source": [
    "#loading the pretrained model\n",
    "face_classifier = cv2.CascadeClassifier(\n",
    "    cv2.data.haarcascades + \"haarcascade_frontalface_default.xml\"\n",
    ")"
   ]
  },
  {
   "cell_type": "code",
   "execution_count": 13,
   "id": "355323e2",
   "metadata": {},
   "outputs": [],
   "source": [
    "# VideoCapture(0) means capture from your default camera. 1,2,3 should be used if extra devices\n",
    "video_capture = cv2.VideoCapture(0)"
   ]
  },
  {
   "cell_type": "code",
   "execution_count": 14,
   "id": "555f2258",
   "metadata": {},
   "outputs": [],
   "source": [
    "# fn that converts vid-frame to gray,then use trained model to detect faces and finally draw rectangles.\n",
    "def detect_bounding_box(vid):\n",
    "    gray_image = cv2.cvtColor(vid, cv2.COLOR_BGR2GRAY)\n",
    "    faces = face_classifier.detectMultiScale(gray_image, 1.2, 5, minSize=(40, 40))\n",
    "    for (x, y, w, h) in faces:\n",
    "        cv2.rectangle(vid, (x, y), (x + w, y + h), (0, 255, 0), 4)\n",
    "    return faces"
   ]
  },
  {
   "cell_type": "markdown",
   "id": "3bd56d17",
   "metadata": {},
   "source": [
    "### cv2.waitKey(1) waits for a key press and returns an integer representing the key code.\n",
    "& 0xFF extracts the last 8 bits of the key code to ensure it's in the range 0-255.\n",
    "ord(\"q\") is the ASCII code for the 'q' key.\n",
    "The condition if cv2.waitKey(1) & 0xFF == ord(\"q\"): checks if the key code of the pressed key is equal to the ASCII code of 'q'. If the 'q' key is pressed, the condition evaluates to True, and the break statement is executed, which exits the loop and terminates the program."
   ]
  },
  {
   "cell_type": "code",
   "execution_count": 15,
   "id": "cc9a360f",
   "metadata": {},
   "outputs": [],
   "source": [
    "# since video passes frames infinitely so run infinite loop. Then, we read the video captured from webcam.\n",
    "# if succesfully captured, go on else break.\n",
    "while True:\n",
    "    result, video_frame = video_capture.read()  # read frames from the video\n",
    "    if result is False:\n",
    "        break  # terminate the loop if the frame is not read successfully\n",
    "\n",
    "    faces = detect_bounding_box(video_frame) #passing the captured video_frame to fn for rectangling\n",
    "    \n",
    "    #generates a window with \"My Face Detection Project\" with processed video_frame having rectangle\n",
    "    cv2.imshow(\"My Face Detection Project\", video_frame)  \n",
    "\n",
    "    if cv2.waitKey(1) & 0xFF == ord(\"q\"): #waits for 1 millisecon\n",
    "        break\n",
    "\n",
    "video_capture.release()\n",
    "cv2.destroyAllWindows()"
   ]
  },
  {
   "cell_type": "code",
   "execution_count": null,
   "id": "e6467255",
   "metadata": {},
   "outputs": [],
   "source": []
  },
  {
   "cell_type": "code",
   "execution_count": null,
   "id": "6c8f6f17",
   "metadata": {},
   "outputs": [],
   "source": []
  },
  {
   "cell_type": "code",
   "execution_count": null,
   "id": "f1c070f9",
   "metadata": {},
   "outputs": [],
   "source": []
  },
  {
   "cell_type": "code",
   "execution_count": null,
   "id": "fc5820b7",
   "metadata": {},
   "outputs": [],
   "source": []
  }
 ],
 "metadata": {
  "kernelspec": {
   "display_name": "Python 3 (ipykernel)",
   "language": "python",
   "name": "python3"
  },
  "language_info": {
   "codemirror_mode": {
    "name": "ipython",
    "version": 3
   },
   "file_extension": ".py",
   "mimetype": "text/x-python",
   "name": "python",
   "nbconvert_exporter": "python",
   "pygments_lexer": "ipython3",
   "version": "3.11.5"
  }
 },
 "nbformat": 4,
 "nbformat_minor": 5
}
